{
  "cells": [
    {
      "cell_type": "code",
      "execution_count": null,
      "metadata": {
        "id": "6Mdn5lQg2iHm"
      },
      "outputs": [],
      "source": [
        "import tensorflow as tf\n",
        "import keras\n",
        "import numpy as np\n",
        "import matplotlib.pyplot as plt"
      ]
    },
    {
      "cell_type": "code",
      "execution_count": null,
      "metadata": {
        "id": "FrhvyiBTA4vK"
      },
      "outputs": [],
      "source": [
        "num_classes=10"
      ]
    },
    {
      "cell_type": "code",
      "execution_count": null,
      "metadata": {
        "id": "SXcFvBtY3uR7"
      },
      "outputs": [],
      "source": [
        "(trainX, trainY), (testX, testY) = keras.datasets.mnist.load_data()"
      ]
    },
    {
      "cell_type": "code",
      "execution_count": null,
      "metadata": {
        "colab": {
          "base_uri": "https://localhost:8080/"
        },
        "id": "mml9wBqH3xjH",
        "outputId": "33775dfa-9131-4e54-a173-3fd577639ba3"
      },
      "outputs": [
        {
          "output_type": "stream",
          "name": "stdout",
          "text": [
            "(60000, 28, 28) (60000,) (10000, 28, 28) (10000,)\n"
          ]
        }
      ],
      "source": [
        "print(trainX.shape,trainY.shape,testX.shape,testY.shape)"
      ]
    },
    {
      "cell_type": "code",
      "execution_count": null,
      "metadata": {
        "colab": {
          "base_uri": "https://localhost:8080/",
          "height": 482
        },
        "id": "5FGENCgf4EdB",
        "outputId": "4ae4053b-ab12-4baa-c0e2-855260cf8673"
      },
      "outputs": [
        {
          "output_type": "stream",
          "name": "stdout",
          "text": [
            "6\n",
            "255\n"
          ]
        },
        {
          "output_type": "execute_result",
          "data": {
            "text/plain": [
              "<matplotlib.image.AxesImage at 0x7b2bc2a56050>"
            ]
          },
          "metadata": {},
          "execution_count": 78
        },
        {
          "output_type": "display_data",
          "data": {
            "text/plain": [
              "<Figure size 640x480 with 1 Axes>"
            ],
            "image/png": "[encoded data removed]"
          },
          "metadata": {}
        }
      ],
      "source": [
        "example = trainX[1100]\n",
        "print(trainY[1100])\n",
        "print(np.max(example))\n",
        "plt.imshow(example, cmap = 'gray')"
      ]
    },
    {
      "cell_type": "code",
      "execution_count": null,
      "metadata": {
        "id": "_2iK11bsBFub"
      },
      "outputs": [],
      "source": [
        "trainX = trainX/255\n",
        "testX = testX/255"
      ]
    },
    {
      "cell_type": "code",
      "execution_count": null,
      "metadata": {
        "colab": {
          "base_uri": "https://localhost:8080/",
          "height": 465
        },
        "id": "HigIxR9JBH8B",
        "outputId": "d1c4aa48-dd2b-4a7f-876e-38c556382400"
      },
      "outputs": [
        {
          "output_type": "stream",
          "name": "stdout",
          "text": [
            "6\n"
          ]
        },
        {
          "output_type": "execute_result",
          "data": {
            "text/plain": [
              "<matplotlib.image.AxesImage at 0x7b2bc2aa8400>"
            ]
          },
          "metadata": {},
          "execution_count": 80
        },
        {
          "output_type": "display_data",
          "data": {
            "text/plain": [
              "<Figure size 640x480 with 1 Axes>"
            ],
            "image/png": "[encoded data removed]"
          },
          "metadata": {}
        }
      ],
      "source": [
        "example = trainX[1100]\n",
        "print(trainY[1100])\n",
        "plt.imshow(example, cmap = 'gray')"
      ]
    },
    {
      "cell_type": "code",
      "execution_count": null,
      "metadata": {
        "colab": {
          "base_uri": "https://localhost:8080/"
        },
        "id": "4wO0PgDaBK4y",
        "outputId": "cf0d6175-1ffe-4b48-eefe-0413f54d7bd6"
      },
      "outputs": [
        {
          "output_type": "execute_result",
          "data": {
            "text/plain": [
              "1.0"
            ]
          },
          "metadata": {},
          "execution_count": 81
        }
      ],
      "source": [
        "np.max(example)"
      ]
    },
    {
      "cell_type": "code",
      "execution_count": null,
      "metadata": {
        "colab": {
          "base_uri": "https://localhost:8080/"
        },
        "id": "J2Fs3BOjBNz5",
        "outputId": "880c637c-219f-4e94-b492-d4eb124a5035"
      },
      "outputs": [
        {
          "output_type": "stream",
          "name": "stdout",
          "text": [
            "(60000, 28, 28)\n"
          ]
        }
      ],
      "source": [
        "print(trainX.shape)"
      ]
    },
    {
      "cell_type": "code",
      "execution_count": null,
      "metadata": {
        "id": "pcJm542gBQEg"
      },
      "outputs": [],
      "source": [
        "trainX = np.expand_dims(trainX, -1)\n",
        "testX = np.expand_dims(testX, -1)"
      ]
    },
    {
      "cell_type": "code",
      "execution_count": null,
      "metadata": {
        "colab": {
          "base_uri": "https://localhost:8080/"
        },
        "id": "W_3suxIAD3T7",
        "outputId": "37a6081d-d3be-48bf-e42f-f80c26f8bd88"
      },
      "outputs": [
        {
          "output_type": "stream",
          "name": "stdout",
          "text": [
            "(60000, 28, 28, 1)\n"
          ]
        }
      ],
      "source": [
        "print(trainX.shape)"
      ]
    },
    {
      "cell_type": "code",
      "execution_count": null,
      "metadata": {
        "id": "45UYWjIX4K6x"
      },
      "outputs": [],
      "source": [
        "trainY = keras.utils.to_categorical(trainY)\n",
        "testY = keras.utils.to_categorical(testY)"
      ]
    },
    {
      "cell_type": "code",
      "execution_count": null,
      "metadata": {
        "colab": {
          "base_uri": "https://localhost:8080/"
        },
        "id": "MTiM-i5H92XL",
        "outputId": "f22e63ec-f13f-4ce7-93f2-c6e00b83620f"
      },
      "outputs": [
        {
          "output_type": "execute_result",
          "data": {
            "text/plain": [
              "array([0., 0., 0., 0., 0., 1., 0., 0., 0., 0.], dtype=float32)"
            ]
          },
          "metadata": {},
          "execution_count": 86
        }
      ],
      "source": [
        "trainY[0]"
      ]
    },
    {
      "cell_type": "code",
      "execution_count": null,
      "metadata": {
        "id": "GrmgJKph-IqD"
      },
      "outputs": [],
      "source": [
        "img_shape = (28, 28, 1)"
      ]
    },
    {
      "cell_type": "code",
      "execution_count": null,
      "metadata": {
        "id": "73niLd_MAXwl"
      },
      "outputs": [],
      "source": [
        "model = keras.Sequential([\n",
        "    keras.Input(shape = img_shape),\n",
        "    tf.keras.layers.Conv2D(256,(3,3),activation=\"relu\"),\n",
        "    tf.keras.layers.MaxPool2D(2,2),\n",
        "    tf.keras.layers.Conv2D(128,(3,3),activation='relu'),\n",
        "    tf.keras.layers.MaxPool2D(2,2),\n",
        "    tf.keras.layers.Conv2D(64,(3,3),activation='relu'),\n",
        "    tf.keras.layers.MaxPool2D(2,2),\n",
        "    tf.keras.layers.Dense(32,activation='relu'),\n",
        "    tf.keras.layers.Flatten(),\n",
        "    tf.keras.layers.Dense(10,activation='softmax')\n",
        "])"
      ]
    },
    {
      "cell_type": "code",
      "execution_count": null,
      "metadata": {
        "colab": {
          "base_uri": "https://localhost:8080/"
        },
        "id": "tlbcn71wCM-n",
        "outputId": "51810d32-4e9e-4b25-e1a7-6daeb50b3368"
      },
      "outputs": [
        {
          "output_type": "stream",
          "name": "stdout",
          "text": [
            "Model: \"sequential_2\"\n",
            "_________________________________________________________________\n",
            " Layer (type)                Output Shape              Param #   \n",
            "=================================================================\n",
            " conv2d_6 (Conv2D)           (None, 26, 26, 256)       2560      \n",
            "                                                                 \n",
            " max_pooling2d_6 (MaxPoolin  (None, 13, 13, 256)       0         \n",
            " g2D)                                                            \n",
            "                                                                 \n",
            " conv2d_7 (Conv2D)           (None, 11, 11, 128)       295040    \n",
            "                                                                 \n",
            " max_pooling2d_7 (MaxPoolin  (None, 5, 5, 128)         0         \n",
            " g2D)                                                            \n",
            "                                                                 \n",
            " conv2d_8 (Conv2D)           (None, 3, 3, 64)          73792     \n",
            "                                                                 \n",
            " max_pooling2d_8 (MaxPoolin  (None, 1, 1, 64)          0         \n",
            " g2D)                                                            \n",
            "                                                                 \n",
            " dense_4 (Dense)             (None, 1, 1, 32)          2080      \n",
            "                                                                 \n",
            " flatten_2 (Flatten)         (None, 32)                0         \n",
            "                                                                 \n",
            " dense_5 (Dense)             (None, 10)                330       \n",
            "                                                                 \n",
            "=================================================================\n",
            "Total params: 373802 (1.43 MB)\n",
            "Trainable params: 373802 (1.43 MB)\n",
            "Non-trainable params: 0 (0.00 Byte)\n",
            "_________________________________________________________________\n"
          ]
        }
      ],
      "source": [
        "model.summary()"
      ]
    },
    {
      "cell_type": "code",
      "execution_count": null,
      "metadata": {
        "id": "4yipS0JMEHh6"
      },
      "outputs": [],
      "source": [
        "model.compile(optimizer = 'Adam', loss = tf.keras.losses.CategoricalCrossentropy(), metrics = ['accuracy', 'Recall', 'Precision'])"
      ]
    },
    {
      "cell_type": "code",
      "source": [
        "hist = model.fit(trainX, trainY, batch_size=400,epochs = 15)"
      ],
      "metadata": {
        "colab": {
          "base_uri": "https://localhost:8080/"
        },
        "id": "RtpD0BpcvbcI",
        "outputId": "1be4bd62-8a43-4fcf-ccfb-7c51e4da4cc3"
      },
      "execution_count": null,
      "outputs": [
        {
          "output_type": "stream",
          "name": "stdout",
          "text": [
            "Epoch 1/15\n",
            "150/150 [==============================] - 7s 34ms/step - loss: 0.4719 - accuracy: 0.8600 - recall: 0.7883 - precision: 0.9435\n",
            "Epoch 2/15\n",
            "150/150 [==============================] - 5s 34ms/step - loss: 0.1149 - accuracy: 0.9653 - recall: 0.9600 - precision: 0.9724\n",
            "Epoch 3/15\n",
            "150/150 [==============================] - 5s 35ms/step - loss: 0.0824 - accuracy: 0.9752 - recall: 0.9718 - precision: 0.9794\n",
            "Epoch 4/15\n",
            "150/150 [==============================] - 5s 34ms/step - loss: 0.0643 - accuracy: 0.9804 - recall: 0.9778 - precision: 0.9832\n",
            "Epoch 5/15\n",
            "150/150 [==============================] - 5s 35ms/step - loss: 0.0554 - accuracy: 0.9831 - recall: 0.9813 - precision: 0.9855\n",
            "Epoch 6/15\n",
            "150/150 [==============================] - 5s 34ms/step - loss: 0.0453 - accuracy: 0.9858 - recall: 0.9844 - precision: 0.9876\n",
            "Epoch 7/15\n",
            "150/150 [==============================] - 5s 35ms/step - loss: 0.0405 - accuracy: 0.9876 - recall: 0.9863 - precision: 0.9889\n",
            "Epoch 8/15\n",
            "150/150 [==============================] - 5s 35ms/step - loss: 0.0344 - accuracy: 0.9891 - recall: 0.9881 - precision: 0.9906\n",
            "Epoch 9/15\n",
            "150/150 [==============================] - 5s 34ms/step - loss: 0.0303 - accuracy: 0.9904 - recall: 0.9897 - precision: 0.9915\n",
            "Epoch 10/15\n",
            "150/150 [==============================] - 5s 35ms/step - loss: 0.0270 - accuracy: 0.9916 - recall: 0.9908 - precision: 0.9922\n",
            "Epoch 11/15\n",
            "150/150 [==============================] - 5s 34ms/step - loss: 0.0237 - accuracy: 0.9924 - recall: 0.9916 - precision: 0.9932\n",
            "Epoch 12/15\n",
            "150/150 [==============================] - 5s 34ms/step - loss: 0.0189 - accuracy: 0.9937 - recall: 0.9933 - precision: 0.9944\n",
            "Epoch 13/15\n",
            "150/150 [==============================] - 5s 35ms/step - loss: 0.0181 - accuracy: 0.9941 - recall: 0.9938 - precision: 0.9946\n",
            "Epoch 14/15\n",
            "150/150 [==============================] - 5s 34ms/step - loss: 0.0190 - accuracy: 0.9937 - recall: 0.9933 - precision: 0.9942\n",
            "Epoch 15/15\n",
            "150/150 [==============================] - 5s 35ms/step - loss: 0.0134 - accuracy: 0.9956 - recall: 0.9954 - precision: 0.9961\n"
          ]
        }
      ]
    },
    {
      "cell_type": "code",
      "source": [
        "plt.plot(hist.history['loss'])"
      ],
      "metadata": {
        "colab": {
          "base_uri": "https://localhost:8080/",
          "height": 447
        },
        "id": "XYL0cQSmdThJ",
        "outputId": "93264c36-e8dd-4c64-a05b-d68b26e0985f"
      },
      "execution_count": null,
      "outputs": [
        {
          "output_type": "execute_result",
          "data": {
            "text/plain": [
              "[<matplotlib.lines.Line2D at 0x7b2bc46ef940>]"
            ]
          },
          "metadata": {},
          "execution_count": 94
        },
        {
          "output_type": "display_data",
          "data": {
            "text/plain": [
              "<Figure size 640x480 with 1 Axes>"
            ],
            "image/png": "[encoded data removed]"
          },
          "metadata": {}
        }
      ]
    },
    {
      "cell_type": "code",
      "source": [
        "plt.plot(hist.history['accuracy'])\n",
        "plt.plot(hist.history['recall'])\n",
        "plt.plot(hist.history['precision'])"
      ],
      "metadata": {
        "colab": {
          "base_uri": "https://localhost:8080/",
          "height": 447
        },
        "id": "8kGJB0wleC_C",
        "outputId": "a5a388f7-68fc-48e8-f35f-fe6945977cd2"
      },
      "execution_count": null,
      "outputs": [
        {
          "output_type": "execute_result",
          "data": {
            "text/plain": [
              "[<matplotlib.lines.Line2D at 0x7b2b4220eef0>]"
            ]
          },
          "metadata": {},
          "execution_count": 95
        },
        {
          "output_type": "display_data",
          "data": {
            "text/plain": [
              "<Figure size 640x480 with 1 Axes>"
            ],
            "image/png": "[encoded data removed]"
          },
          "metadata": {}
        }
      ]
    },
    {
      "cell_type": "code",
      "execution_count": null,
      "metadata": {
        "colab": {
          "base_uri": "https://localhost:8080/"
        },
        "id": "yKxTft8BEMnw",
        "outputId": "f6fdf908-0662-4551-fe62-e0e057934f66"
      },
      "outputs": [
        {
          "output_type": "stream",
          "name": "stdout",
          "text": [
            "313/313 [==============================] - 2s 5ms/step - loss: 0.0554 - accuracy: 0.9861 - recall: 0.9856 - precision: 0.9869\n"
          ]
        }
      ],
      "source": [
        "history=model.evaluate(testX,testY)"
      ]
    },
    {
      "cell_type": "code",
      "execution_count": null,
      "metadata": {
        "colab": {
          "base_uri": "https://localhost:8080/"
        },
        "id": "dUN-SMBuJNb7",
        "outputId": "ec0ee477-89cc-45cd-aa1e-7408ab00635f"
      },
      "outputs": [
        {
          "output_type": "stream",
          "name": "stdout",
          "text": [
            "[0.055383581668138504, 0.9861000180244446, 0.9855999946594238, 0.9868829250335693]\n"
          ]
        }
      ],
      "source": [
        "print(history)"
      ]
    },
    {
      "cell_type": "code",
      "execution_count": null,
      "metadata": {
        "colab": {
          "base_uri": "https://localhost:8080/"
        },
        "id": "C2uz6rysEkXA",
        "outputId": "eee79ee0-abb9-453d-c5e7-05b758b7c778"
      },
      "outputs": [
        {
          "output_type": "stream",
          "name": "stdout",
          "text": [
            "313/313 [==============================] - 1s 3ms/step\n"
          ]
        }
      ],
      "source": [
        "predictions=model.predict(testX)"
      ]
    },
    {
      "cell_type": "code",
      "execution_count": null,
      "metadata": {
        "colab": {
          "base_uri": "https://localhost:8080/"
        },
        "id": "vovJVJXKEuZO",
        "outputId": "7cd8d9b3-01d7-4e87-a844-f46463f45021"
      },
      "outputs": [
        {
          "output_type": "execute_result",
          "data": {
            "text/plain": [
              "array([2.3050663e-06, 9.9811625e-01, 6.3541755e-08, 1.2301842e-07,\n",
              "       1.5484164e-03, 3.6888163e-05, 1.8492884e-10, 1.7082284e-05,\n",
              "       8.9120374e-05, 1.8975485e-04], dtype=float32)"
            ]
          },
          "metadata": {},
          "execution_count": 99
        }
      ],
      "source": [
        "predictions[31]"
      ]
    },
    {
      "cell_type": "code",
      "execution_count": null,
      "metadata": {
        "colab": {
          "base_uri": "https://localhost:8080/",
          "height": 447
        },
        "id": "5mGYjr9CohDz",
        "outputId": "e16cc225-3174-41a8-9e4d-de69d427b9d3"
      },
      "outputs": [
        {
          "output_type": "execute_result",
          "data": {
            "text/plain": [
              "<matplotlib.image.AxesImage at 0x7b2bc32db6d0>"
            ]
          },
          "metadata": {},
          "execution_count": 100
        },
        {
          "output_type": "display_data",
          "data": {
            "text/plain": [
              "<Figure size 640x480 with 1 Axes>"
            ],
            "image/png": "[encoded data removed]"
          },
          "metadata": {}
        }
      ],
      "source": [
        "plt.imshow(testX[31])"
      ]
    },
    {
      "cell_type": "code",
      "execution_count": null,
      "metadata": {
        "colab": {
          "base_uri": "https://localhost:8080/"
        },
        "id": "_JyC5L6eL6FR",
        "outputId": "3cc1eb43-21ba-48e9-964c-22d19626d87e"
      },
      "outputs": [
        {
          "output_type": "execute_result",
          "data": {
            "text/plain": [
              "array([0., 1., 0., 0., 0., 0., 0., 0., 0., 0.], dtype=float32)"
            ]
          },
          "metadata": {},
          "execution_count": 101
        }
      ],
      "source": [
        "testY[31]"
      ]
    },
    {
      "cell_type": "code",
      "execution_count": null,
      "metadata": {
        "colab": {
          "base_uri": "https://localhost:8080/"
        },
        "id": "PGJL9DKjL_ws",
        "outputId": "4f4bd860-2857-4333-d08c-6d253cff8b75"
      },
      "outputs": [
        {
          "output_type": "stream",
          "name": "stderr",
          "text": [
            "/usr/local/lib/python3.10/dist-packages/keras/src/engine/training.py:3103: UserWarning: You are saving your model as an HDF5 file via `model.save()`. This file format is considered legacy. We recommend using instead the native Keras format, e.g. `model.save('my_model.keras')`.\n",
            "  saving_api.save_model(\n"
          ]
        }
      ],
      "source": [
        "model.save('mnist.h5')"
      ]
    },
    {
      "cell_type": "code",
      "execution_count": null,
      "metadata": {
        "id": "Cef7vs2GMLKf"
      },
      "outputs": [],
      "source": [
        "model.save('mnist_cnn.keras')"
      ]
    },
    {
      "cell_type": "code",
      "source": [],
      "metadata": {
        "id": "b6aPYRsU2Orr"
      },
      "execution_count": null,
      "outputs": []
    }
  ],
  "metadata": {
    "accelerator": "GPU",
    "colab": {
      "gpuType": "T4",
      "provenance": []
    },
    "kernelspec": {
      "display_name": "Python 3",
      "name": "python3"
    },
    "language_info": {
      "name": "python"
    }
  },
  "nbformat": 4,
  "nbformat_minor": 0
}